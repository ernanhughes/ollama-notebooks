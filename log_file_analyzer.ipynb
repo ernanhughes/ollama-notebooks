{
 "cells": [
  {
   "cell_type": "code",
   "execution_count": 2,
   "metadata": {},
   "outputs": [
    {
     "name": "stdout",
     "output_type": "stream",
     "text": [
      "This is a log file from an Nginx web server. I'll break down the key points:\n",
      "\n",
      "**First two lines:**\n",
      "\n",
      "* These are access logs from Nginx.\n",
      "* The first line shows a GET request to `/ahstat` with a 404 status code (not found).\n",
      "* The second line shows an error message from Nginx, indicating that it couldn't open the file `/usr/share/nginx/html/ahstat` because it doesn't exist.\n",
      "\n",
      "**Third and fourth lines:**\n",
      "\n",
      "* These are also access logs.\n",
      "* The third line shows a GET request to `/favicon.ico` with a 404 status code (not found).\n",
      "* The fourth line shows an error message from Nginx, indicating that it couldn't open the file `/usr/share/nginx/html/favicon.ico` because it doesn't exist.\n",
      "\n",
      "**Fifth and sixth lines:**\n",
      "\n",
      "* These are duplicate entries of the first two lines.\n",
      "\n",
      "**Seventh and eighth lines:**\n",
      "\n",
      "* These are access logs.\n",
      "* The seventh line shows a GET request to `/ahstat` with a 404 status code (not found).\n",
      "* The eighth line shows an error message from Nginx, indicating that it couldn't open the file `/usr/share/nginx/html/ahstat` because it doesn't exist.\n",
      "\n",
      "**Ninth line:**\n",
      "\n",
      "* This is another access log.\n",
      "* It shows a GET request to `/` with a 200 status code (OK).\n",
      "* There's also an error message from Nginx, indicating that it couldn't open the file `/usr/share/nginx/html/favicon.ico` because it doesn't exist.\n",
      "\n",
      "**Tenth line:**\n",
      "\n",
      "* This is another access log.\n",
      "* It shows a GET request to `/favicon.ico` with a 404 status code (not found).\n",
      "* There's also an error message from Nginx, indicating that it couldn't open the file `/usr/share/nginx/html/favicon.ico` because it doesn't exist.\n",
      "\n",
      "The common theme here is that Nginx is receiving requests for files (`/ahstat`, `/favicon.ico`) that don't exist in its document root (`/usr/share/nginx/html`). As a result, it's returning 404 status codes and error messages indicating that the files couldn't be found."
     ]
    }
   ],
   "source": [
    "import sys\n",
    "import re\n",
    "import requests\n",
    "import json\n",
    "\n",
    "\n",
    "def load_log(log_file_path:str = 'test.log', pre_lines:int = 5, post_lines:int = 5):\n",
    "  with open(log_file_path, 'r') as log_file:\n",
    "    log_lines = log_file.readlines()\n",
    "\n",
    "  error_logs = []\n",
    "  for i, line in enumerate(log_lines):\n",
    "      if \"error\" in line.lower():\n",
    "          start_index = max(0, i - pre_lines)\n",
    "          end_index = min(len(log_lines), i + post_lines + 1)\n",
    "          error_logs.extend(log_lines[start_index:end_index])\n",
    "\n",
    "  return error_logs\n",
    "\n",
    "error_logs = load_log()\n",
    "\n",
    "data = {\n",
    "  \"prompt\": \"\\n\".join(error_logs), \n",
    "  \"model\": \"llama3.1\"\n",
    "}\n",
    "\n",
    "response = requests.post(\"http://localhost:11434/api/generate\", json=data, stream=True)\n",
    "for line in response.iter_lines():\n",
    "  if line:\n",
    "    json_data = json.loads(line)\n",
    "    if json_data['done'] == False:\n",
    "      print(json_data['response'], end='', flush=True)\n"
   ]
  }
 ],
 "metadata": {
  "kernelspec": {
   "display_name": ".venv",
   "language": "python",
   "name": "python3"
  },
  "language_info": {
   "codemirror_mode": {
    "name": "ipython",
    "version": 3
   },
   "file_extension": ".py",
   "mimetype": "text/x-python",
   "name": "python",
   "nbconvert_exporter": "python",
   "pygments_lexer": "ipython3",
   "version": "3.11.9"
  }
 },
 "nbformat": 4,
 "nbformat_minor": 2
}
