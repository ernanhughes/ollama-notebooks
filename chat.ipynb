{
 "cells": [
  {
   "cell_type": "code",
   "execution_count": 5,
   "metadata": {},
   "outputs": [
    {
     "name": "stdout",
     "output_type": "stream",
     "text": [
      "The capital of Ireland is Dublin.\n",
      "That's a bit of a tricky one, as \"England\" doesn't have a single administrative capital (it's part of the United Kingdom). However, if you're referring to the country itself, the capital is London.\n",
      "\n",
      "If you meant the UK as a whole, then the capital is also London.\n",
      "The capital of Wales is Cardiff.\n",
      "The capital of Scotland is Edinburgh.\n"
     ]
    }
   ],
   "source": [
    "import ollama\n",
    "prompt1 = 'What is the capital of Ireland?'\n",
    "response = ollama.chat(model='llama3.1', messages=[\n",
    "            {'role': 'user','content': prompt1,},])\n",
    "r1 = response['message']['content']\n",
    "print(r1)\n",
    "\n",
    "prompt2 = 'and of England?'\n",
    "response = ollama.chat(model='llama3.1', messages=[\n",
    "            {'role': 'user','content': prompt1,},\n",
    "            {'role': 'assistant','content': r1,},            \n",
    "            {'role': 'user','content': prompt2,},])\n",
    "r2 = response['message']['content']\n",
    "print(r2)\n",
    "\n",
    "\n",
    "prompt3 = 'and of Wales?'\n",
    "response = ollama.chat(model='llama3.1', messages=[\n",
    "            {'role': 'user','content': prompt1,},\n",
    "            {'role': 'assistant','content': r1,},            \n",
    "            {'role': 'user','content': prompt2,},\n",
    "            {'role': 'assistant','content': r2,},            \n",
    "            {'role': 'user','content': prompt3,},])\n",
    "r3 = response['message']['content']\n",
    "print(r3)\n",
    "\n",
    "\n",
    "prompt4 = 'and of Scotland?'\n",
    "response = ollama.chat(model='llama3.1', messages=[\n",
    "            {'role': 'user','content': prompt1,},\n",
    "            {'role': 'assistant','content': r1,},            \n",
    "            {'role': 'user','content': prompt2,},\n",
    "            {'role': 'assistant','content': r2,},            \n",
    "            {'role': 'user','content': prompt3,},\n",
    "            {'role': 'assistant','content': r3,},            \n",
    "            {'role': 'user','content': prompt4,},\n",
    "            ])\n",
    "r4 = response['message']['content']\n",
    "print(r4)\n",
    "\n",
    "\n"
   ]
  },
  {
   "cell_type": "code",
   "execution_count": 6,
   "metadata": {},
   "outputs": [
    {
     "name": "stdout",
     "output_type": "stream",
     "text": [
      "Large Language Models (LLMs) like myself have the potential to significantly improve various aspects of human life. Here are some examples:\n",
      "\n",
      "1. **Access to Information**: LLMs can provide people with accurate and up-to-date information on a wide range of topics, including science, history, culture, and more. This can be especially helpful for:\n",
      "\t* Students: Improving research skills and understanding complex concepts.\n",
      "\t* Healthcare professionals: Staying informed about the latest medical breakthroughs and best practices.\n",
      "\t* General public: Accessing reliable information on various subjects, promoting education and awareness.\n",
      "2. **Language Translation**: LLMs can facilitate communication across languages, breaking language barriers:\n",
      "\t* Travelers: Helping navigate foreign languages and cultures.\n",
      "\t* Business professionals: Facilitating global commerce and collaboration.\n",
      "\t* International relations: Enhancing diplomacy and understanding between nations.\n",
      "3. **Writing Assistance**: LLMs can aid in writing tasks, such as:\n",
      "\t* Content creation: Generating engaging articles, blog posts, or social media content.\n",
      "\t* Essay writing: Providing structure and guidance for students and professionals alike.\n",
      "\t* Communication improvement: Helping people express themselves more effectively in writing.\n",
      "4. **Personalized Recommendations**: LLMs can offer tailored suggestions based on individual preferences:\n",
      "\t* Music and entertainment: Recommending music, movies, or books that match personal tastes.\n",
      "\t* Shopping: Providing personalized product recommendations based on shopping history and interests.\n",
      "\t* Career guidance: Offering job search assistance and career advice.\n",
      "5. **Accessibility for People with Disabilities**: LLMs can help improve accessibility for individuals with disabilities:\n",
      "\t* Speech-to-text technology: Enabling people with mobility or speech impairments to communicate more easily.\n",
      "\t* Language support: Providing language assistance for individuals who are deaf, hard of hearing, or have language processing difficulties.\n",
      "6. **Education and Learning**: LLMs can enhance the learning experience:\n",
      "\t* Personalized education: Adapting teaching methods to individual students' needs and abilities.\n",
      "\t* Virtual tutoring: Offering one-on-one support for students struggling with specific subjects or concepts.\n",
      "7. **Healthcare and Mental Health**: LLMs can help in various healthcare contexts:\n",
      "\t* Disease diagnosis: Providing diagnostic information and guidance for medical professionals.\n",
      "\t* Mental health support: Offering online counseling, stress management, and emotional support tools.\n",
      "8. **Environmental Sustainability**: LLMs can contribute to environmental conservation efforts:\n",
      "\t* Climate change mitigation: Helping governments and organizations develop strategies to reduce carbon emissions.\n",
      "\t* Sustainable practices: Providing resources and insights on eco-friendly habits and policies.\n",
      "9. **Economic Empowerment**: LLMs can help individuals improve their financial literacy and make informed economic decisions:\n",
      "\t* Financial planning: Offering guidance on budgeting, investing, and saving.\n",
      "\t* Entrepreneurship support: Assisting small business owners with marketing, finance, and other operational aspects.\n",
      "10. **Social Impact**: LLMs can promote positive social change by:\n",
      "\t* Providing access to information on social issues, such as poverty, inequality, or human rights.\n",
      "\t* Supporting community development initiatives through data-driven insights and recommendations.\n",
      "\n",
      "These examples illustrate the vast potential of Large Language Models to improve various aspects of human life. As LLMs continue to evolve and become more sophisticated, their impact will likely expand to even more areas, making a significant difference in people's lives worldwide."
     ]
    }
   ],
   "source": [
    "import ollama\n",
    "prompt = 'How can LLMs improve human life?'\n",
    "stream = ollama.chat(model='llama3.1',\n",
    "          messages=[{'role': 'user', 'content': prompt}],\n",
    "          stream=True,)\n",
    "for chunk in stream:\n",
    "  print(chunk['message']['content'], end='', flush=True)\n"
   ]
  }
 ],
 "metadata": {
  "kernelspec": {
   "display_name": ".venv",
   "language": "python",
   "name": "python3"
  },
  "language_info": {
   "codemirror_mode": {
    "name": "ipython",
    "version": 3
   },
   "file_extension": ".py",
   "mimetype": "text/x-python",
   "name": "python",
   "nbconvert_exporter": "python",
   "pygments_lexer": "ipython3",
   "version": "3.11.9"
  }
 },
 "nbformat": 4,
 "nbformat_minor": 2
}
