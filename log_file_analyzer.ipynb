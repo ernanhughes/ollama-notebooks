{
 "cells": [
  {
   "cell_type": "code",
   "execution_count": null,
   "metadata": {},
   "outputs": [],
   "source": [
    "import sys\n",
    "import re\n",
    "import requests\n",
    "import json\n",
    "\n",
    "\n",
    "def load_log(log_file_path:str = 'test.log', pre_lines:int = 5, post_lines:int = 5):\n",
    "  with open(log_file_path, 'r') as log_file:\n",
    "    log_lines = log_file.readlines()\n",
    "\n",
    "  error_logs = []\n",
    "  for i, line in enumerate(log_lines):\n",
    "      if \"error\" in line.lower():\n",
    "          start_index = max(0, i - pre_lines)\n",
    "          end_index = min(len(log_lines), i + post_lines + 1)\n",
    "          error_logs.extend(log_lines[start_index:end_index])\n",
    "\n",
    "  return error_logs\n",
    "\n",
    "error_logs = load_log()\n",
    "\n",
    "data = {\n",
    "  \"prompt\": \"\\n\".join(error_logs), \n",
    "  \"model\": \"llama3.1\"\n",
    "}\n",
    "\n",
    "response = requests.post(\"http://localhost:11434/api/generate\", json=data, stream=True)\n",
    "for line in response.iter_lines():\n",
    "  if line:\n",
    "    json_data = json.loads(line)\n",
    "    if json_data['done'] == False:\n",
    "      print(json_data['response'], end='', flush=True)\n"
   ]
  }
 ],
 "metadata": {
  "language_info": {
   "name": "python"
  }
 },
 "nbformat": 4,
 "nbformat_minor": 2
}
