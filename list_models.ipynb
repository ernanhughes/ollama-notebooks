{
 "cells": [
  {
   "cell_type": "code",
   "execution_count": 1,
   "metadata": {},
   "outputs": [
    {
     "name": "stdout",
     "output_type": "stream",
     "text": [
      "Installed Ollama Models:\n",
      "NAME                    \tID          \tSIZE  \tMODIFIED    \n",
      "mxbai-embed-large:latest\t468836162de7\t669 MB\t13 days ago\t\n",
      "codellama:latest        \t8fdf8f752f6e\t3.8 GB\t13 days ago\t\n",
      "llama3.1:latest         \t91ab477bec9d\t4.7 GB\t2 weeks ago\n"
     ]
    }
   ],
   "source": [
    "import subprocess\n",
    "import json\n",
    "\n",
    "def list_ollama_models():\n",
    "    try:\n",
    "        # Run the 'ollama list' command to get the list of models\n",
    "        result = subprocess.run(['ollama', 'list'], capture_output=True, text=True)\n",
    "        \n",
    "        # Check if the command was successful\n",
    "        if result.returncode == 0:\n",
    "            # Parse the output (assuming it's in JSON format)\n",
    "            models_output = result.stdout.strip()\n",
    "            \n",
    "            # If the output is in JSON format\n",
    "            try:\n",
    "                models = json.loads(models_output)\n",
    "                print(\"Installed Ollama Models:\")\n",
    "                for model in models:\n",
    "                    print(f\"- {model['name']} (Version: {model['version']})\")\n",
    "            except json.JSONDecodeError:\n",
    "                # If it's not JSON, just print the raw output\n",
    "                print(\"Installed Ollama Models:\")\n",
    "                print(models_output)\n",
    "        else:\n",
    "            print(\"Error listing Ollama models. Please ensure Ollama is installed and running correctly.\")\n",
    "            print(\"Error message:\", result.stderr)\n",
    "    \n",
    "    except FileNotFoundError:\n",
    "        print(\"Ollama command not found. Please ensure Ollama is installed and in your system's PATH.\")\n",
    "\n",
    "# Call the function\n",
    "list_ollama_models()\n"
   ]
  },
  {
   "cell_type": "code",
   "execution_count": 4,
   "metadata": {},
   "outputs": [
    {
     "name": "stdout",
     "output_type": "stream",
     "text": [
      "Failed to retrieve models. Status code: 404\n",
      "Response: 404 page not found\n"
     ]
    }
   ],
   "source": [
    "import requests\n",
    "import json\n",
    "\n",
    "def list_ollama_models(host: str=\"localhost\", port: int=11434):\n",
    "    try:\n",
    "        # Define the URL for the local Ollama server (adjust the port if necessary)\n",
    "        url = f'http://{host}:{port}/models'\n",
    "        \n",
    "        print(f\"Retrieving list of installed models from {url}...\")\n",
    "        \n",
    "        # Send a GET request to retrieve the list of installed models\n",
    "        response = requests.get(url)\n",
    "        \n",
    "        # Check if the request was successful\n",
    "        if response.status_code == 200:\n",
    "            # Parse the JSON response\n",
    "            models = response.json()\n",
    "            \n",
    "            # Print the installed models\n",
    "            print(\"Installed Ollama Models:\")\n",
    "            for model in models:\n",
    "                print(f\"- {model['name']} (Version: {model['version']})\")\n",
    "        else:\n",
    "            print(f\"Failed to retrieve models. Status code: {response.status_code}\")\n",
    "            print(\"Response:\", response.text)\n",
    "    \n",
    "    except requests.ConnectionError:\n",
    "        print(\"Failed to connect to the Ollama server. Make sure it is running locally and the URL is correct.\")\n",
    "    except json.JSONDecodeError:\n",
    "        print(\"Failed to parse JSON response from Ollama server.\")\n",
    "    except Exception as e:\n",
    "        print(f\"An error occurred: {e}\")\n",
    "\n",
    "# Call the function to list models\n",
    "list_ollama_models()\n"
   ]
  }
 ],
 "metadata": {
  "kernelspec": {
   "display_name": ".venv",
   "language": "python",
   "name": "python3"
  },
  "language_info": {
   "codemirror_mode": {
    "name": "ipython",
    "version": 3
   },
   "file_extension": ".py",
   "mimetype": "text/x-python",
   "name": "python",
   "nbconvert_exporter": "python",
   "pygments_lexer": "ipython3",
   "version": "3.11.9"
  }
 },
 "nbformat": 4,
 "nbformat_minor": 2
}
