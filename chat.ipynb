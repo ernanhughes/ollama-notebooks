{
 "cells": [
  {
   "cell_type": "code",
   "execution_count": 5,
   "metadata": {},
   "outputs": [
    {
     "name": "stdout",
     "output_type": "stream",
     "text": [
      "The capital of Ireland is Dublin.\n",
      "That's a bit of a tricky one, as \"England\" doesn't have a single administrative capital (it's part of the United Kingdom). However, if you're referring to the country itself, the capital is London.\n",
      "\n",
      "If you meant the UK as a whole, then the capital is also London.\n",
      "The capital of Wales is Cardiff.\n",
      "The capital of Scotland is Edinburgh.\n"
     ]
    }
   ],
   "source": [
    "import ollama\n",
    "prompt1 = 'What is the capital of Ireland?'\n",
    "response = ollama.chat(model='llama3.1', messages=[\n",
    "            {'role': 'user','content': prompt1,},])\n",
    "r1 = response['message']['content']\n",
    "print(r1)\n",
    "\n",
    "prompt2 = 'and of England?'\n",
    "response = ollama.chat(model='llama3.1', messages=[\n",
    "            {'role': 'user','content': prompt1,},\n",
    "            {'role': 'assistant','content': r1,},            \n",
    "            {'role': 'user','content': prompt2,},])\n",
    "r2 = response['message']['content']\n",
    "print(r2)\n",
    "\n",
    "\n",
    "prompt3 = 'and of Wales?'\n",
    "response = ollama.chat(model='llama3.1', messages=[\n",
    "            {'role': 'user','content': prompt1,},\n",
    "            {'role': 'assistant','content': r1,},            \n",
    "            {'role': 'user','content': prompt2,},\n",
    "            {'role': 'assistant','content': r2,},            \n",
    "            {'role': 'user','content': prompt3,},])\n",
    "r3 = response['message']['content']\n",
    "print(r3)\n",
    "\n",
    "\n",
    "prompt4 = 'and of Scotland?'\n",
    "response = ollama.chat(model='llama3.1', messages=[\n",
    "            {'role': 'user','content': prompt1,},\n",
    "            {'role': 'assistant','content': r1,},            \n",
    "            {'role': 'user','content': prompt2,},\n",
    "            {'role': 'assistant','content': r2,},            \n",
    "            {'role': 'user','content': prompt3,},\n",
    "            {'role': 'assistant','content': r3,},            \n",
    "            {'role': 'user','content': prompt4,},\n",
    "            ])\n",
    "r4 = response['message']['content']\n",
    "print(r4)\n",
    "\n",
    "\n"
   ]
  },
  {
   "cell_type": "markdown",
   "metadata": {},
   "source": [
    "import ollama\n",
    "prompt = 'How can LLMs improve human life?'\n",
    "stream = ollama.chat(model='llama3.1',\n",
    "          messages=[{'role': 'user', 'content': prompt}],\n",
    "          stream=True,)\n",
    "for chunk in stream:\n",
    "  print(chunk['message']['content'], end='', flush=True)\n"
   ]
  }
 ],
 "metadata": {
  "kernelspec": {
   "display_name": ".venv",
   "language": "python",
   "name": "python3"
  },
  "language_info": {
   "codemirror_mode": {
    "name": "ipython",
    "version": 3
   },
   "file_extension": ".py",
   "mimetype": "text/x-python",
   "name": "python",
   "nbconvert_exporter": "python",
   "pygments_lexer": "ipython3",
   "version": "3.11.9"
  }
 },
 "nbformat": 4,
 "nbformat_minor": 2
}
